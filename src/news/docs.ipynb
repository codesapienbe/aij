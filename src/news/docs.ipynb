{
 "cells": [
  {
   "cell_type": "markdown",
   "metadata": {
    "collapsed": false
   },
   "source": [
    "# News API\n",
    "\n",
    "A Python client for the [News API](https://newsapi.org/docs/)."
   ]
  },
  {
   "attachments": {},
   "cell_type": "markdown",
   "metadata": {
    "collapsed": false
   },
   "source": [
    "## General\n",
    "\n",
    "This is a Python client library for [News API V2](https://newsapi.org/).\n",
    "The functions and methods for this library should mirror the\n",
    "endpoints specified by the News API [documentation](https://newsapi.org/docs/endpoints)."
   ]
  },
  {
   "attachments": {},
   "cell_type": "markdown",
   "metadata": {
    "collapsed": false
   },
   "source": [
    "## Installation\n",
    "\n",
    "Installation for the package can be done via `pip`:"
   ]
  },
  {
   "cell_type": "code",
   "execution_count": null,
   "metadata": {
    "ExecuteTime": {
     "end_time": "2023-04-01T02:30:50.383591Z",
     "start_time": "2023-04-01T02:30:20.376567Z"
    },
    "collapsed": false
   },
   "outputs": [],
   "source": [
    "%pip install newsapi-python\n",
    "%pip install opencv-python\n",
    "%pip install mediapipe\n",
    "%pip install screeninfo\n",
    "%pip install cvzone\n",
    "%pip install matplotlib\n",
    "%pip install pandas"
   ]
  },
  {
   "cell_type": "markdown",
   "metadata": {
    "collapsed": false
   },
   "source": [
    "## Usage\n",
    "\n",
    "After installation, import the client class into your project:"
   ]
  },
  {
   "cell_type": "code",
   "execution_count": null,
   "metadata": {
    "ExecuteTime": {
     "end_time": "2023-04-03T21:27:53.325585Z",
     "start_time": "2023-04-03T21:27:53.292332Z"
    },
    "collapsed": false
   },
   "outputs": [],
   "source": [
    "from newsapi import NewsApiClient"
   ]
  },
  {
   "cell_type": "markdown",
   "metadata": {
    "collapsed": false
   },
   "source": [
    "Initialize the client with your API key:"
   ]
  },
  {
   "cell_type": "code",
   "execution_count": null,
   "metadata": {
    "ExecuteTime": {
     "end_time": "2023-04-03T21:29:01.126203Z",
     "start_time": "2023-04-03T21:29:01.102597Z"
    },
    "collapsed": false
   },
   "outputs": [],
   "source": [
    "import os\n",
    "\n",
    "api = NewsApiClient(api_key=os.environ['NEWSAPI_ORG'])"
   ]
  },
  {
   "attachments": {},
   "cell_type": "markdown",
   "metadata": {
    "collapsed": false
   },
   "source": [
    "### Endpoints\n",
    "\n",
    "An instance of `NewsApiClient` has three instance methods corresponding to three News API endpoints."
   ]
  },
  {
   "cell_type": "markdown",
   "metadata": {
    "collapsed": false
   },
   "source": [
    "#### Top Headlines\n",
    "\n",
    "Use `.get_top_headlines()` to pull from the [`/top-headlines`](https://newsapi.org/docs/endpoints/top-headlines) endpoint:"
   ]
  },
  {
   "cell_type": "code",
   "execution_count": null,
   "metadata": {
    "ExecuteTime": {
     "end_time": "2023-04-03T21:29:09.058526Z",
     "start_time": "2023-04-03T21:29:08.338129Z"
    },
    "collapsed": false
   },
   "outputs": [],
   "source": [
    "api.get_top_headlines(sources='bbc-news')"
   ]
  },
  {
   "cell_type": "markdown",
   "metadata": {
    "collapsed": false
   },
   "source": [
    "#### Everything\n",
    "\n",
    "Use `.get_everything()` to pull from the [`/everything`](https://newsapi.org/docs/endpoints/everything) endpoint:"
   ]
  },
  {
   "cell_type": "code",
   "execution_count": null,
   "metadata": {
    "ExecuteTime": {
     "end_time": "2023-04-03T21:29:34.708222Z",
     "start_time": "2023-04-03T21:29:33.765175Z"
    },
    "collapsed": false
   },
   "outputs": [],
   "source": [
    "api.get_everything(q='bitcoin')"
   ]
  },
  {
   "cell_type": "markdown",
   "metadata": {
    "collapsed": false
   },
   "source": [
    "#### Sources\n",
    "\n",
    "Use `.get_sources()` to pull from the [`/sources`](https://newsapi.org/docs/endpoints/sources) endpoint:"
   ]
  },
  {
   "cell_type": "code",
   "execution_count": null,
   "metadata": {
    "ExecuteTime": {
     "end_time": "2023-04-03T21:29:53.070906Z",
     "start_time": "2023-04-03T21:29:52.406867Z"
    },
    "collapsed": false
   },
   "outputs": [],
   "source": [
    "api.get_sources()"
   ]
  },
  {
   "attachments": {},
   "cell_type": "markdown",
   "metadata": {
    "collapsed": false
   },
   "source": [
    "## Warming up\n",
    "\n",
    "Let's get some news but using it together with OpenCV and Pandas\n"
   ]
  },
  {
   "cell_type": "code",
   "execution_count": null,
   "metadata": {
    "ExecuteTime": {
     "end_time": "2023-04-03T21:30:07.582375Z",
     "start_time": "2023-04-03T21:30:07.521417Z"
    },
    "collapsed": false
   },
   "outputs": [],
   "source": [
    "import pandas as pd\n",
    "import numpy as np"
   ]
  },
  {
   "cell_type": "code",
   "execution_count": null,
   "metadata": {
    "ExecuteTime": {
     "end_time": "2023-04-03T21:30:10.173654Z",
     "start_time": "2023-04-03T21:30:10.126107Z"
    },
    "collapsed": false
   },
   "outputs": [],
   "source": [
    "# init\n",
    "api = NewsApiClient(api_key=os.environ['NEWSAPI_ORG'])"
   ]
  },
  {
   "cell_type": "code",
   "execution_count": null,
   "metadata": {
    "ExecuteTime": {
     "end_time": "2023-04-03T21:30:15.471961Z",
     "start_time": "2023-04-03T21:30:14.821472Z"
    },
    "collapsed": false
   },
   "outputs": [],
   "source": [
    "def get_top_headlines():\n",
    "    response = api.get_top_headlines(\n",
    "        sources='bbc-news, cnn, fox-news, google-news, the-new-york-times, the-wall-street-journal, the-washington-post, time, usa-today, wired'\n",
    "    )\n",
    "    return response\n",
    "\n",
    "\n",
    "top_headlines = get_top_headlines()"
   ]
  },
  {
   "cell_type": "code",
   "execution_count": null,
   "metadata": {
    "ExecuteTime": {
     "end_time": "2023-04-03T21:30:18.815937Z",
     "start_time": "2023-04-03T21:30:18.778057Z"
    },
    "collapsed": false
   },
   "outputs": [],
   "source": [
    "print(\n",
    "    \"\"\"\n",
    "    Top Headlines\n",
    "    -------------\n",
    "    {}\n",
    "    \"\"\".format(top_headlines)\n",
    ")"
   ]
  },
  {
   "cell_type": "code",
   "execution_count": null,
   "metadata": {
    "ExecuteTime": {
     "end_time": "2023-04-03T21:30:23.288167Z",
     "start_time": "2023-04-03T21:30:23.213992Z"
    },
    "collapsed": false
   },
   "outputs": [],
   "source": [
    "def news_to_df(news):\n",
    "    # map all the articles to a list\n",
    "    articles = list(map(lambda x: x['title'], news['articles']))\n",
    "\n",
    "    # create a dataframe\n",
    "    df = pd.DataFrame(articles, columns=['title'])\n",
    "\n",
    "    # add a column for the length of the title\n",
    "    df['title_length'] = df['title'].apply(lambda x: len(x))\n",
    "\n",
    "    # add a column for the number of words in the title\n",
    "    df['title_words'] = df['title'].apply(lambda x: len(x.split(' ')))\n",
    "\n",
    "    return df"
   ]
  },
  {
   "cell_type": "code",
   "execution_count": null,
   "metadata": {},
   "outputs": [],
   "source": [
    "def news_to_df_all_cols(news):\n",
    "    # map all the articles to a list, including all columns. Only for source column, we will take the name of the source\n",
    "    articles = list(map(lambda x: [x['title'], x['description'], x['url'], x['urlToImage'], x['publishedAt'], x['source']['name']], news['articles']))\n",
    "\n",
    "    # set column names\n",
    "    columns = ['title', 'description', 'url', 'urlToImage', 'publishedAt', 'source']\n",
    "    \n",
    "    # create a dataframe\n",
    "    df = pd.DataFrame(articles, columns=columns)\n",
    "\n",
    "    return df"
   ]
  },
  {
   "cell_type": "code",
   "execution_count": null,
   "metadata": {
    "ExecuteTime": {
     "end_time": "2023-04-03T21:30:30.572157Z",
     "start_time": "2023-04-03T21:30:30.502033Z"
    },
    "collapsed": false
   },
   "outputs": [],
   "source": [
    "df = news_to_df(top_headlines)\n",
    "df.head()"
   ]
  },
  {
   "cell_type": "code",
   "execution_count": null,
   "metadata": {},
   "outputs": [],
   "source": [
    "df = news_to_df_all_cols(top_headlines)\n",
    "df.head()"
   ]
  }
 ],
 "metadata": {
  "kernelspec": {
   "display_name": "Python 3",
   "language": "python",
   "name": "python3"
  },
  "language_info": {
   "codemirror_mode": {
    "name": "ipython",
    "version": 3
   },
   "file_extension": ".py",
   "mimetype": "text/x-python",
   "name": "python",
   "nbconvert_exporter": "python",
   "pygments_lexer": "ipython3",
   "version": "3.10.9"
  }
 },
 "nbformat": 4,
 "nbformat_minor": 0
}
