{
  "cells": [
    {
      "cell_type": "code",
      "execution_count": 1,
      "metadata": {
        "id": "M_V4Ud4_jxTO"
      },
      "outputs": [],
      "source": [
        "import numpy as np\n",
        "import pandas as pd\n",
        "import matplotlib.pyplot as plt"
      ]
    },
    {
      "cell_type": "code",
      "execution_count": 2,
      "metadata": {
        "id": "BI-hQADqjxTP"
      },
      "outputs": [],
      "source": [
        "MAX_SEQUENCE_LENGTH = 5000\n",
        "MAX_NUM_WORDS = 25000\n",
        "EMBEDDING_DIM = 300\n",
        "TEST_SPLIT = 0.2\n",
        "\n",
        "TEXT_DATA = 'https://raw.githubusercontent.com/codesapienbe/fake-news/master/data/fake_or_real_news.csv'"
      ]
    },
    {
      "cell_type": "code",
      "execution_count": 3,
      "metadata": {
        "id": "ybJ-TLPCjxTQ"
      },
      "outputs": [],
      "source": [
        "# define a function that allows us to evaluate our models\n",
        "\n",
        "from sklearn.metrics import accuracy_score\n",
        "\n",
        "def evaluate_model(predict_fun, X_train, y_train, X_test, y_test):\n",
        "    '''\n",
        "    evaluate the model, both training and testing errors are reported\n",
        "    '''\n",
        "    # training error\n",
        "    y_predict_train = predict_fun(X_train)\n",
        "    train_acc = accuracy_score(y_train,y_predict_train)\n",
        "    \n",
        "    # testing error\n",
        "    y_predict_test = predict_fun(X_test)\n",
        "    test_acc = accuracy_score(y_test,y_predict_test)\n",
        "    \n",
        "    return train_acc, test_acc"
      ]
    },
    {
      "cell_type": "code",
      "execution_count": 4,
      "metadata": {
        "id": "TZ24waD-jxTQ"
      },
      "outputs": [],
      "source": [
        "# estimate 95% confidence interval on error\n",
        "\n",
        "# NOTE: based on conversation on stackexchange: \n",
        "# https://stats.stackexchange.com/questions/247551/how-to-determine-the-confidence-of-a-neural-network-prediction\n",
        "# towards bottom of the page.\n",
        "\n",
        "from math import sqrt\n",
        "\n",
        "def error_conf(error, n):\n",
        "    term = 1.96*sqrt((error*(1-error))/n)\n",
        "    lb = error - term\n",
        "    ub = error + term\n",
        "    \n",
        "    return lb, ub"
      ]
    },
    {
      "cell_type": "code",
      "execution_count": 5,
      "metadata": {
        "id": "9fjCaUesjxTQ"
      },
      "outputs": [],
      "source": [
        "# read in our data and preprocess it\n",
        "\n",
        "df = pd.read_csv(TEXT_DATA)\n",
        "df.drop(labels=['id','title'], axis='columns', inplace=True)\n",
        "# only select stories with lengths gt 0 -- there are some texts with len = 0\n",
        "mask = list(df['text'].apply(lambda x: len(x) > 0))\n",
        "df = df[mask]"
      ]
    },
    {
      "cell_type": "code",
      "execution_count": 6,
      "metadata": {
        "colab": {
          "base_uri": "https://localhost:8080/"
        },
        "id": "TOZR1rhZjxTR",
        "outputId": "27cb4d82-ecf9-4b70-e5ec-955877441a9e"
      },
      "outputs": [
        {
          "name": "stdout",
          "output_type": "stream",
          "text": [
            "Found 6335 texts.\n"
          ]
        }
      ],
      "source": [
        "# prepare text samples and their labels\n",
        "\n",
        "texts = df['text']\n",
        "labels = df['label']\n",
        "\n",
        "print('Found %s texts.' %texts.shape[0])"
      ]
    },
    {
      "cell_type": "code",
      "execution_count": 7,
      "metadata": {
        "colab": {
          "base_uri": "https://localhost:8080/",
          "height": 265
        },
        "id": "mJZQaPZMjxTR",
        "outputId": "7cb769ab-6f3b-43f0-e246-a45698710554"
      },
      "outputs": [
        {
          "data": {
            "image/png": "[encoded data removed]",
            "text/plain": [
              "<Figure size 640x480 with 1 Axes>"
            ]
          },
          "metadata": {},
          "output_type": "display_data"
        }
      ],
      "source": [
        "# plot the distribution of article lengths in terms of word counts\n",
        "\n",
        "text_lengths = texts.apply(lambda x: len(x.split(\" \")))\n",
        "plt.hist(text_lengths)\n",
        "plt.show()"
      ]
    },
    {
      "attachments": {},
      "cell_type": "markdown",
      "metadata": {
        "id": "BOfmXgMijxTS"
      },
      "source": [
        "## Naive Bayes"
      ]
    },
    {
      "cell_type": "code",
      "execution_count": 8,
      "metadata": {
        "id": "SmsvkF4ljxTT"
      },
      "outputs": [],
      "source": [
        "# set up vector models for training and testing\n",
        "\n",
        "from sklearn.feature_extraction.text import CountVectorizer\n",
        "\n",
        "# data vectorizer\n",
        "vectorizer = CountVectorizer(analyzer = \"word\", \n",
        "                             binary = True, \n",
        "                             min_df = 2,\n",
        "                             stop_words='english')\n",
        "docarray = vectorizer.fit_transform(texts).toarray()\n",
        "docterm = pd.DataFrame(docarray, columns=vectorizer.get_feature_names_out())"
      ]
    },
    {
      "cell_type": "code",
      "execution_count": 9,
      "metadata": {
        "id": "uBej8h2sjxTT"
      },
      "outputs": [],
      "source": [
        "# create training and test data\n",
        "\n",
        "from sklearn.model_selection import train_test_split\n",
        "docterm_train, docterm_test, y_train, y_test = train_test_split(docterm, labels, test_size=TEST_SPLIT)"
      ]
    },
    {
      "cell_type": "code",
      "execution_count": 10,
      "metadata": {
        "colab": {
          "base_uri": "https://localhost:8080/"
        },
        "id": "507u0btnjxTU",
        "outputId": "664c293c-89c5-48e2-8111-a5a19bcde825"
      },
      "outputs": [
        {
          "data": {
            "text/html": [
              "<style>#sk-container-id-1 {color: black;background-color: white;}#sk-container-id-1 pre{padding: 0;}#sk-container-id-1 div.sk-toggleable {background-color: white;}#sk-container-id-1 label.sk-toggleable__label {cursor: pointer;display: block;width: 100%;margin-bottom: 0;padding: 0.3em;box-sizing: border-box;text-align: center;}#sk-container-id-1 label.sk-toggleable__label-arrow:before {content: \"▸\";float: left;margin-right: 0.25em;color: #696969;}#sk-container-id-1 label.sk-toggleable__label-arrow:hover:before {color: black;}#sk-container-id-1 div.sk-estimator:hover label.sk-toggleable__label-arrow:before {color: black;}#sk-container-id-1 div.sk-toggleable__content {max-height: 0;max-width: 0;overflow: hidden;text-align: left;background-color: #f0f8ff;}#sk-container-id-1 div.sk-toggleable__content pre {margin: 0.2em;color: black;border-radius: 0.25em;background-color: #f0f8ff;}#sk-container-id-1 input.sk-toggleable__control:checked~div.sk-toggleable__content {max-height: 200px;max-width: 100%;overflow: auto;}#sk-container-id-1 input.sk-toggleable__control:checked~label.sk-toggleable__label-arrow:before {content: \"▾\";}#sk-container-id-1 div.sk-estimator input.sk-toggleable__control:checked~label.sk-toggleable__label {background-color: #d4ebff;}#sk-container-id-1 div.sk-label input.sk-toggleable__control:checked~label.sk-toggleable__label {background-color: #d4ebff;}#sk-container-id-1 input.sk-hidden--visually {border: 0;clip: rect(1px 1px 1px 1px);clip: rect(1px, 1px, 1px, 1px);height: 1px;margin: -1px;overflow: hidden;padding: 0;position: absolute;width: 1px;}#sk-container-id-1 div.sk-estimator {font-family: monospace;background-color: #f0f8ff;border: 1px dotted black;border-radius: 0.25em;box-sizing: border-box;margin-bottom: 0.5em;}#sk-container-id-1 div.sk-estimator:hover {background-color: #d4ebff;}#sk-container-id-1 div.sk-parallel-item::after {content: \"\";width: 100%;border-bottom: 1px solid gray;flex-grow: 1;}#sk-container-id-1 div.sk-label:hover label.sk-toggleable__label {background-color: #d4ebff;}#sk-container-id-1 div.sk-serial::before {content: \"\";position: absolute;border-left: 1px solid gray;box-sizing: border-box;top: 0;bottom: 0;left: 50%;z-index: 0;}#sk-container-id-1 div.sk-serial {display: flex;flex-direction: column;align-items: center;background-color: white;padding-right: 0.2em;padding-left: 0.2em;position: relative;}#sk-container-id-1 div.sk-item {position: relative;z-index: 1;}#sk-container-id-1 div.sk-parallel {display: flex;align-items: stretch;justify-content: center;background-color: white;position: relative;}#sk-container-id-1 div.sk-item::before, #sk-container-id-1 div.sk-parallel-item::before {content: \"\";position: absolute;border-left: 1px solid gray;box-sizing: border-box;top: 0;bottom: 0;left: 50%;z-index: -1;}#sk-container-id-1 div.sk-parallel-item {display: flex;flex-direction: column;z-index: 1;position: relative;background-color: white;}#sk-container-id-1 div.sk-parallel-item:first-child::after {align-self: flex-end;width: 50%;}#sk-container-id-1 div.sk-parallel-item:last-child::after {align-self: flex-start;width: 50%;}#sk-container-id-1 div.sk-parallel-item:only-child::after {width: 0;}#sk-container-id-1 div.sk-dashed-wrapped {border: 1px dashed gray;margin: 0 0.4em 0.5em 0.4em;box-sizing: border-box;padding-bottom: 0.4em;background-color: white;}#sk-container-id-1 div.sk-label label {font-family: monospace;font-weight: bold;display: inline-block;line-height: 1.2em;}#sk-container-id-1 div.sk-label-container {text-align: center;}#sk-container-id-1 div.sk-container {/* jupyter's `normalize.less` sets `[hidden] { display: none; }` but bootstrap.min.css set `[hidden] { display: none !important; }` so we also need the `!important` here to be able to override the default hidden behavior on the sphinx rendered scikit-learn.org. See: https://github.com/scikit-learn/scikit-learn/issues/21755 */display: inline-block !important;position: relative;}#sk-container-id-1 div.sk-text-repr-fallback {display: none;}</style><div id=\"sk-container-id-1\" class=\"sk-top-container\"><div class=\"sk-text-repr-fallback\"><pre>MultinomialNB()</pre><b>In a Jupyter environment, please rerun this cell to show the HTML representation or trust the notebook. <br />On GitHub, the HTML representation is unable to render, please try loading this page with nbviewer.org.</b></div><div class=\"sk-container\" hidden><div class=\"sk-item\"><div class=\"sk-estimator sk-toggleable\"><input class=\"sk-toggleable__control sk-hidden--visually\" id=\"sk-estimator-id-1\" type=\"checkbox\" checked><label for=\"sk-estimator-id-1\" class=\"sk-toggleable__label sk-toggleable__label-arrow\">MultinomialNB</label><div class=\"sk-toggleable__content\"><pre>MultinomialNB()</pre></div></div></div></div></div>"
            ],
            "text/plain": [
              "MultinomialNB()"
            ]
          },
          "execution_count": 10,
          "metadata": {},
          "output_type": "execute_result"
        }
      ],
      "source": [
        "# Naive Bayes Model\n",
        "\n",
        "from sklearn.naive_bayes import MultinomialNB\n",
        "model = MultinomialNB()\n",
        "model.fit(docterm_train, y_train)"
      ]
    },
    {
      "cell_type": "code",
      "execution_count": 11,
      "metadata": {
        "colab": {
          "base_uri": "https://localhost:8080/"
        },
        "id": "go5ws2VujxTU",
        "outputId": "d7b6dd43-2041-4255-b7a3-5604629cf400"
      },
      "outputs": [
        {
          "name": "stdout",
          "output_type": "stream",
          "text": [
            "Training Accuracy: 93.86%\n",
            "Testing Accuracy: 89.50%\n"
          ]
        }
      ],
      "source": [
        "# evaluate model\n",
        "\n",
        "train_acc, test_acc = evaluate_model(model.predict, docterm_train, y_train, docterm_test, y_test)\n",
        "print(\"Training Accuracy: {:.2f}%\".format(train_acc*100))\n",
        "print(\"Testing Accuracy: {:.2f}%\".format(test_acc*100))"
      ]
    },
    {
      "cell_type": "code",
      "execution_count": 12,
      "metadata": {
        "colab": {
          "base_uri": "https://localhost:8080/"
        },
        "id": "iltp-Iy6jxTU",
        "outputId": "8ac0f707-7eef-4952-9d5f-813c1933f988"
      },
      "outputs": [
        {
          "name": "stdout",
          "output_type": "stream",
          "text": [
            "95% confidence interval: 87.81%-91.19%\n"
          ]
        }
      ],
      "source": [
        "# estimate 95% confidence interval\n",
        "\n",
        "n = docterm_test.shape[0]\n",
        "lb, ub = error_conf(1-test_acc, n)\n",
        "\n",
        "print(\"95% confidence interval: {:.2f}%-{:.2f}%\".format((1-ub)*100,(1-lb)*100))"
      ]
    },
    {
      "attachments": {},
      "cell_type": "markdown",
      "metadata": {
        "id": "r9sNO19QjxTU"
      },
      "source": [
        "## Convolutional DNN"
      ]
    },
    {
      "cell_type": "code",
      "execution_count": 16,
      "metadata": {
        "colab": {
          "base_uri": "https://localhost:8080/"
        },
        "id": "Q2M0Q6fijxTV",
        "outputId": "9ba2e58b-3461-4dbf-e3ad-3da95dbd59a9"
      },
      "outputs": [
        {
          "name": "stdout",
          "output_type": "stream",
          "text": [
            "Found 98817 unique tokens.\n",
            "Shape of data tensor: (6335, 5000)\n",
            "Shape of label tensor: (6335,)\n"
          ]
        }
      ],
      "source": [
        "# vectorize the text samples into a 2D integer tensor \n",
        "\n",
        "from keras.preprocessing.text import Tokenizer\n",
        "from keras.utils import pad_sequences\n",
        "\n",
        "tokenizer = Tokenizer(num_words=MAX_NUM_WORDS)\n",
        "tokenizer.fit_on_texts(texts)\n",
        "sequences = tokenizer.texts_to_sequences(texts)\n",
        "\n",
        "word_index = tokenizer.word_index\n",
        "num_words = min(MAX_NUM_WORDS, len(word_index)) + 1\n",
        "data = pad_sequences(sequences, \n",
        "                    maxlen=MAX_SEQUENCE_LENGTH, \n",
        "                    padding='pre', \n",
        "                    truncating='pre')\n",
        "\n",
        "print('Found %s unique tokens.' % len(word_index))\n",
        "print('Shape of data tensor:', data.shape)\n",
        "print('Shape of label tensor:', labels.shape)"
      ]
    },
    {
      "cell_type": "code",
      "execution_count": 17,
      "metadata": {
        "id": "vh-UnAyXjxTV"
      },
      "outputs": [],
      "source": [
        "# split the data into a training set and a validation set   \n",
        "\n",
        "from sklearn.model_selection import train_test_split\n",
        "\n",
        "x_train, x_val, y_train, y_val = train_test_split(data, \n",
        "                                                labels.apply(lambda x: 0 if x == 'FAKE' else 1), \n",
        "                                                test_size=TEST_SPLIT)"
      ]
    },
    {
      "cell_type": "code",
      "execution_count": 18,
      "metadata": {
        "colab": {
          "base_uri": "https://localhost:8080/"
        },
        "id": "IJrCDwL4jxTV",
        "outputId": "137c1525-7032-4bda-eca5-2e51bd29ba0b"
      },
      "outputs": [
        {
          "name": "stdout",
          "output_type": "stream",
          "text": [
            "Model: \"sequential\"\n",
            "_________________________________________________________________\n",
            " Layer (type)                Output Shape              Param #   \n",
            "=================================================================\n",
            " embedding (Embedding)       (None, 5000, 300)         7500300   \n",
            "                                                                 \n",
            " conv1d (Conv1D)             (None, 4996, 128)         192128    \n",
            "                                                                 \n",
            " global_max_pooling1d (Globa  (None, 128)              0         \n",
            " lMaxPooling1D)                                                  \n",
            "                                                                 \n",
            " dense (Dense)               (None, 128)               16512     \n",
            "                                                                 \n",
            " dense_1 (Dense)             (None, 1)                 129       \n",
            "                                                                 \n",
            "=================================================================\n",
            "Total params: 7,709,069\n",
            "Trainable params: 7,709,069\n",
            "Non-trainable params: 0\n",
            "_________________________________________________________________\n"
          ]
        }
      ],
      "source": [
        "# build a 1D convnet with global maxpooling                                                                      \n",
        "\n",
        "from keras import layers\n",
        "from keras.models import Sequential\n",
        "\n",
        "model = Sequential(\n",
        "    [\n",
        "        # part 1: word and sequence processing\n",
        "        layers.Embedding(num_words,\n",
        "                        EMBEDDING_DIM, \n",
        "                        input_length=MAX_SEQUENCE_LENGTH,\n",
        "                        trainable=True),\n",
        "        layers.Conv1D(128, 5, activation='relu'),\n",
        "        layers.GlobalMaxPooling1D(),\n",
        "        \n",
        "        # part 2: classification\n",
        "        layers.Dense(128, activation='relu'),\n",
        "        layers.Dense(1, activation='sigmoid')\n",
        "    ])\n",
        "\n",
        "model.compile(loss='binary_crossentropy',\n",
        "            optimizer='rmsprop',\n",
        "            metrics=['accuracy'])\n",
        "\n",
        "model.summary()"
      ]
    },
    {
      "cell_type": "code",
      "execution_count": 19,
      "metadata": {
        "colab": {
          "base_uri": "https://localhost:8080/"
        },
        "id": "nII7SEYHjxTV",
        "outputId": "600cdd35-a375-44f8-ef03-7ea11e1d447f"
      },
      "outputs": [
        {
          "name": "stdout",
          "output_type": "stream",
          "text": [
            "Epoch 1/10\n",
            "22/40 [===============>..............] - ETA: 1:18 - loss: 0.6729 - accuracy: 0.5884"
          ]
        }
      ],
      "source": [
        "# train the model\n",
        "\n",
        "history = model.fit(x_train, \n",
        "                    y_train,\n",
        "                    batch_size=128,\n",
        "                    epochs=10,\n",
        "                    validation_data=(x_val, y_val))"
      ]
    },
    {
      "cell_type": "code",
      "execution_count": null,
      "metadata": {
        "colab": {
          "base_uri": "https://localhost:8080/"
        },
        "id": "P2VpEuaDKxTG",
        "outputId": "22777dd6-2d55-4875-f682-be4aec97008c"
      },
      "outputs": [],
      "source": [
        "# all possible parameters history stores\n",
        "history.history.keys()"
      ]
    },
    {
      "cell_type": "code",
      "execution_count": null,
      "metadata": {
        "colab": {
          "base_uri": "https://localhost:8080/",
          "height": 295
        },
        "id": "a2ns5YRvjxTV",
        "outputId": "f3d7be08-af38-4253-cc52-aa35db5ed74a"
      },
      "outputs": [],
      "source": [
        "# Plot training & validation accuracy values\n",
        "\n",
        "plt.plot(history.history['accuracy'])\n",
        "plt.plot(history.history['val_accuracy'])\n",
        "plt.title('Model accuracy')\n",
        "plt.ylabel('Accuracy')\n",
        "plt.xlabel('Epoch')\n",
        "plt.legend(['Train', 'Test'], loc='upper left')\n",
        "plt.show()"
      ]
    },
    {
      "cell_type": "code",
      "execution_count": null,
      "metadata": {
        "colab": {
          "base_uri": "https://localhost:8080/"
        },
        "id": "CQoSKxX1jxTV",
        "outputId": "570c287c-a539-4bb8-8366-4416ca32a0e1"
      },
      "outputs": [],
      "source": [
        "# evaluate model\n",
        "\n",
        "train_acc, test_acc = evaluate_model(lambda x: np.rint(model.predict(x)),\n",
        "                                     x_train, \n",
        "                                     y_train, \n",
        "                                     x_val, \n",
        "                                     y_val)\n",
        "print(\"Training Accuracy: {:.2f}%\".format(train_acc*100))\n",
        "print(\"Testing Accuracy: {:.2f}%\".format(test_acc*100))"
      ]
    },
    {
      "cell_type": "code",
      "execution_count": null,
      "metadata": {
        "colab": {
          "base_uri": "https://localhost:8080/"
        },
        "id": "ZSYr6JiojxTW",
        "outputId": "e2d04c65-904c-45c3-b247-03f0e3957f8b"
      },
      "outputs": [],
      "source": [
        "# estimate 95% confidence interval\n",
        "\n",
        "n = x_val.shape[0]\n",
        "lb, ub = error_conf(1-test_acc, n)\n",
        "\n",
        "print(\"95% confidence interval: {:.2f}%-{:.2f}%\".format((1-ub)*100,(1-lb)*100))"
      ]
    },
    {
      "cell_type": "code",
      "execution_count": null,
      "metadata": {
        "id": "DMDZL4VbjxTW"
      },
      "outputs": [],
      "source": []
    }
  ],
  "metadata": {
    "accelerator": "GPU",
    "colab": {
      "collapsed_sections": [],
      "include_colab_link": true,
      "name": "Copy of fake-news-classification.ipynb",
      "provenance": []
    },
    "kernelspec": {
      "display_name": "Python 3",
      "language": "python",
      "name": "python3"
    },
    "language_info": {
      "codemirror_mode": {
        "name": "ipython",
        "version": 3
      },
      "file_extension": ".py",
      "mimetype": "text/x-python",
      "name": "python",
      "nbconvert_exporter": "python",
      "pygments_lexer": "ipython3",
      "version": "3.10.11"
    }
  },
  "nbformat": 4,
  "nbformat_minor": 0
}
