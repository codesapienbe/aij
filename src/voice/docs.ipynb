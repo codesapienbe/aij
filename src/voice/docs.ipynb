{
 "cells": [
  {
   "attachments": {},
   "cell_type": "markdown",
   "metadata": {
    "collapsed": false
   },
   "source": [
    "# Pure Voice (Voice Recognition and Translation)"
   ]
  },
  {
   "attachments": {},
   "cell_type": "markdown",
   "metadata": {
    "collapsed": false
   },
   "source": [
    "## Introduction"
   ]
  },
  {
   "attachments": {},
   "cell_type": "markdown",
   "metadata": {
    "collapsed": false
   },
   "source": [
    "A real-time voice translator that can translate voice input and give translated voice output generated from it. It is created using google’s googleTrans API and speech_recognition library of python. It converts text from one language to another language and saves its mp3 recorded file. The playsound module is then used to play the generated mp3 file, After that, the generated mp3 file is deleted using the os module."
   ]
  },
  {
   "attachments": {},
   "cell_type": "markdown",
   "metadata": {
    "collapsed": false
   },
   "source": [
    "## Required Modules"
   ]
  },
  {
   "attachments": {},
   "cell_type": "markdown",
   "metadata": {
    "collapsed": false
   },
   "source": [
    "- Playsound: It is a very simple module that allows you to play audio files with a single line of code. It is cross-platform and runs on Windows, Mac OS X, and Linux. It is also compatible with Python 2 and 3.\n",
    "- SpeechRecognition: It is a library for performing speech recognition, with support for several engines and APIs, online and offline.\n",
    "- Googletrans: It is a free and unlimited python library that implemented Google Translate API. This uses the Google Translate Ajax API to make calls to such methods as detect and translate.\n",
    "- gTTS: It is a very easy to use tool which converts the text entered, into audio which can be saved as a mp3 file. This module is a very easy way to interface with Google Translate’s text to speech API. Google Translate is a free multilingual neural machine translation service developed by Google, to translate text.\n",
    "- OS: It is a module in Python which provides functions for interacting with the operating system. OS comes under Python’s standard utility modules. This module provides a portable way of using operating system dependent functionality.\n",
    "- PyAudio: It is a Python module for accessing the PortAudio library. It provides Python bindings for PortAudio, the cross-platform audio I/O library. PortAudio provides a uniform API for audio input and output across a variety of platforms and operating systems."
   ]
  },
  {
   "attachments": {},
   "cell_type": "markdown",
   "metadata": {
    "collapsed": false
   },
   "source": [
    "### Installing the required modules"
   ]
  },
  {
   "cell_type": "code",
   "execution_count": null,
   "metadata": {
    "collapsed": false
   },
   "outputs": [],
   "source": [
    "%pip install playsound --user\n",
    "%pip install SpeechRecognition --user\n",
    "%pip install googletrans --user\n",
    "%pip install gTTS --user\n",
    "%pip install gTTS-token --user\n",
    "%pip install os --user\n",
    "%pip install pyaudio --user\n",
    "%pip install deep-translator --user\n",
    "%pip install detectlanguage --user\n",
    "%pip install googletrans==3.1.0a0 --user\n",
    "%pip install dotenv-python --user\n",
    "%pip install marian-translator --user"
   ]
  },
  {
   "attachments": {},
   "cell_type": "markdown",
   "metadata": {
    "collapsed": false
   },
   "source": [
    "## Talk is cheap, show me the code!"
   ]
  },
  {
   "attachments": {},
   "cell_type": "markdown",
   "metadata": {
    "collapsed": false
   },
   "source": [
    "#### Importing Necessary Modules"
   ]
  },
  {
   "cell_type": "code",
   "execution_count": null,
   "metadata": {
    "collapsed": true
   },
   "outputs": [],
   "source": [
    "import detectlanguage as detectlanguage\n",
    "\n",
    "import os\n",
    "\n",
    "import speech_recognition as sr\n",
    "from gtts import gTTS\n",
    "from playsound import playsound"
   ]
  },
  {
   "attachments": {},
   "cell_type": "markdown",
   "metadata": {
    "collapsed": false
   },
   "source": [
    "#### A tuple of all the languages mapped with their code"
   ]
  },
  {
   "cell_type": "code",
   "execution_count": null,
   "metadata": {
    "collapsed": false
   },
   "outputs": [],
   "source": [
    "flag = 0\n",
    "\n",
    "# A tuple containing all the language and\n",
    "# codes of the language will be detected\n",
    "dic = (\n",
    "    'afrikaans', 'af',\n",
    "    'albanian', 'sq',\n",
    "    'amharic', 'am',\n",
    "    'arabic', 'ar',\n",
    "    'armenian', 'hy',\n",
    "    'azerbaijani', 'az',\n",
    "    'basque', 'eu',\n",
    "    'belarusian', 'be',\n",
    "    'bengali', 'bn',\n",
    "    'bosnian', 'bs',\n",
    "    'bulgarian', 'bg',\n",
    "    'catalan', 'ca',\n",
    "    'cebuano', 'ceb',\n",
    "    'chichewa', 'ny',\n",
    "    'chinese (simplified)', 'zh-cn',\n",
    "    'chinese (traditional)', 'zh-tw',\n",
    "    'corsican', 'co',\n",
    "    'croatian', 'hr',\n",
    "    'czech', 'cs',\n",
    "    'danish', 'da',\n",
    "    'dutch', 'nl',\n",
    "    'english', 'en',\n",
    "    'esperanto', 'eo',\n",
    "    'estonian', 'et',\n",
    "    'filipino', 'tl',\n",
    "    'finnish', 'fi',\n",
    "    'french', 'fr',\n",
    "    'frisian', 'fy',\n",
    "    'galician', 'gl',\n",
    "    'georgian', 'ka',\n",
    "    'german', 'de',\n",
    "    'greek', 'el',\n",
    "    'gujarati', 'gu',\n",
    "    'haitian creole', 'ht',\n",
    "    'hausa', 'ha',\n",
    "    'hawaiian', 'haw',\n",
    "    'hebrew', 'he',\n",
    "    'hindi', 'hi',\n",
    "    'hmong', 'hmn',\n",
    "    'hungarian', 'hu',\n",
    "    'icelandic', 'is',\n",
    "    'igbo', 'ig',\n",
    "    'indonesian', 'id',\n",
    "    'irish', 'ga',\n",
    "    'italian', 'it',\n",
    "    'japanese', 'ja',\n",
    "    'javanese', 'jw',\n",
    "    'kannada', 'kn',\n",
    "    'kazakh', 'kk',\n",
    "    'khmer', 'km',\n",
    "    'korean', 'ko',\n",
    "    'kurdish (kurmanji)', 'ku',\n",
    "    'kyrgyz', 'ky',\n",
    "    'lao', 'lo',\n",
    "    'latin', 'la',\n",
    "    'latvian', 'lv',\n",
    "    'lithuanian', 'lt',\n",
    "    'luxembourgish', 'lb',\n",
    "    'macedonian', 'mk',\n",
    "    'malagasy', 'mg',\n",
    "    'malay', 'ms',\n",
    "    'malayalam', 'ml',\n",
    "    'maltese', 'mt',\n",
    "    'maori', 'mi',\n",
    "    'marathi', 'mr',\n",
    "    'mongolian', 'mn',\n",
    "    'myanmar (burmese)', 'my',\n",
    "    'nepali', 'ne',\n",
    "    'norwegian', 'no',\n",
    "    'odia', 'or',\n",
    "    'pashto', 'ps',\n",
    "    'persian', 'fa',\n",
    "    'polish', 'pl',\n",
    "    'portuguese', 'pt',\n",
    "    'punjabi', 'pa',\n",
    "    'romanian', 'ro',\n",
    "    'russian', 'ru',\n",
    "    'samoan', 'sm',\n",
    "    'scots gaelic', 'gd',\n",
    "    'serbian', 'sr',\n",
    "    'sesotho', 'st',\n",
    "    'shona', 'sn',\n",
    "    'sindhi', 'sd',\n",
    "    'sinhala', 'si',\n",
    "    'slovak', 'sk',\n",
    "    'slovenian', 'sl',\n",
    "    'somali', 'so',\n",
    "    'spanish', 'es',\n",
    "    'sundanese', 'su',\n",
    "    'swahili', 'sw',\n",
    "    'swedish', 'sv',\n",
    "    'tajik', 'tg',\n",
    "    'tamil', 'ta',\n",
    "    'telugu', 'te',\n",
    "    'thai', 'th',\n",
    "    'turkish', 'tr',\n",
    "    'ukrainian', 'uk',\n",
    "    'urdu', 'ur',\n",
    "    'uyghur', 'ug',\n",
    "    'uzbek', 'uz',\n",
    "    'vietnamese', 'vi',\n",
    "    'welsh', 'cy',\n",
    "    'xhosa', 'xh',\n",
    "    'yiddish', 'yi',\n",
    "    'yoruba', 'yo',\n",
    "    'zulu', 'zu'\n",
    ")\n"
   ]
  },
  {
   "attachments": {},
   "cell_type": "markdown",
   "metadata": {
    "collapsed": false
   },
   "source": [
    "#### Taking voice commands from the user\n",
    "\n",
    "Taking voice commands from the user and converting it to text. The text is then translated to the desired language and converted to speech. The speech is then played using the playsound module. The user can also save the speech as an mp3 file."
   ]
  },
  {
   "cell_type": "code",
   "execution_count": null,
   "metadata": {
    "collapsed": false
   },
   "outputs": [],
   "source": [
    "# Read the source language from the operating system's language\n",
    "import locale\n",
    "source_language = locale.getdefaultlocale()[0]\n",
    "source_language = source_language.replace(\"_\", \"-\").lower()\n",
    "from_lang = source_language.split(\"-\")[0]\n",
    "\n",
    "print(\n",
    "    \"\"\"\n",
    "    Your default language is {source_language}. If you want to change it, please enter the language code from the list below.\n",
    "    {dic}\n",
    "    \"\"\".format(\n",
    "        source_language=source_language,\n",
    "        dic=dic\n",
    "    )\n",
    ")"
   ]
  },
  {
   "cell_type": "code",
   "execution_count": null,
   "metadata": {
    "collapsed": false
   },
   "outputs": [],
   "source": [
    "# Capture Voice\n",
    "def take_command():\n",
    "    \"\"\"\n",
    "    It takes microphone input from the user\n",
    "    @return: string output from the user's voice\n",
    "    \"\"\"\n",
    "    r = sr.Recognizer()\n",
    "    with sr.Microphone() as source:\n",
    "        print(\"listening.....\")\n",
    "        r.pause_threshold = 1\n",
    "        audio = r.listen(source)\n",
    "\n",
    "    try:\n",
    "        print(\"Recognizing.....\")\n",
    "        query = r.recognize_google(\n",
    "            audio, language=source_language\n",
    "        )\n",
    "        print(f\"The User said {query}\\n\")\n",
    "    except Exception as e:\n",
    "        print(\"say that again please.....\")\n",
    "        return \"None\"\n",
    "\n",
    "    return query"
   ]
  },
  {
   "attachments": {},
   "cell_type": "markdown",
   "metadata": {
    "collapsed": false
   },
   "source": [
    "#### Converting user voice to text"
   ]
  },
  {
   "cell_type": "code",
   "execution_count": null,
   "metadata": {
    "collapsed": false
   },
   "outputs": [],
   "source": [
    "# Input from user\n",
    "# Make input to lowercase\n",
    "query = take_command()\n",
    "while \"None\" == query:\n",
    "    query = take_command()\n",
    "\n",
    "query = query.lower()"
   ]
  },
  {
   "attachments": {},
   "cell_type": "markdown",
   "metadata": {
    "collapsed": false
   },
   "source": [
    "#### Input destination language from the user\n",
    "\n",
    "Mapping user input with the language code"
   ]
  },
  {
   "cell_type": "code",
   "execution_count": null,
   "metadata": {
    "collapsed": false
   },
   "outputs": [],
   "source": [
    "def destination_language():\n",
    "    print(\"Destination: Ex. Dutch, English, Turkish etc.\")\n",
    "    print()\n",
    "\n",
    "    # Input destination language in\n",
    "    # which the user wants to translate\n",
    "    to_lang = take_command()\n",
    "\n",
    "    while \"None\" == to_lang:\n",
    "        to_lang = take_command()\n",
    "\n",
    "    to_lang = to_lang.lower()\n",
    "    return to_lang\n"
   ]
  },
  {
   "cell_type": "code",
   "execution_count": null,
   "metadata": {
    "collapsed": false
   },
   "outputs": [],
   "source": [
    "to_lang = destination_language()\n",
    "\n",
    "# Mapping it with the code\n",
    "while (to_lang not in dic):\n",
    "    print(\"Language in which you are trying to convert is currently not available, please input some other language.\")\n",
    "    print()\n",
    "    to_lang = destination_language()\n",
    "\n",
    "to_lang = dic[dic.index(to_lang) + 1]"
   ]
  },
  {
   "attachments": {},
   "cell_type": "markdown",
   "metadata": {
    "collapsed": false
   },
   "source": [
    "#### Invoking Translator"
   ]
  },
  {
   "cell_type": "code",
   "execution_count": null,
   "metadata": {
    "collapsed": false
   },
   "outputs": [],
   "source": [
    "from deep_translator import (GoogleTranslator,\n",
    "                             MicrosoftTranslator,\n",
    "                             PonsTranslator,\n",
    "                             LingueeTranslator,\n",
    "                             MyMemoryTranslator,\n",
    "                             YandexTranslator,\n",
    "                             PapagoTranslator,\n",
    "                             DeeplTranslator,\n",
    "                             QcriTranslator,\n",
    "                             single_detection,\n",
    "                             batch_detection)\n",
    "\n",
    "translator = GoogleTranslator(\n",
    "    source=from_lang,\n",
    "    target=to_lang\n",
    ")"
   ]
  },
  {
   "attachments": {},
   "cell_type": "markdown",
   "metadata": {
    "collapsed": false
   },
   "source": [
    "#### Check Supported Languages\n",
    "\n",
    "To make sure that the language is supported by the translator and the language code is correct."
   ]
  },
  {
   "cell_type": "code",
   "execution_count": null,
   "metadata": {
    "collapsed": false
   },
   "outputs": [],
   "source": [
    "# default return type is a list\n",
    "langs_list = GoogleTranslator().get_supported_languages()  # output: [arabic, french, english etc...]\n",
    "\n",
    "# alternatively, you can the dictionary containing languages mapped to their abbreviation\n",
    "langs_dict = GoogleTranslator().get_supported_languages(as_dict=True)  # output: {arabic: ar, french: fr, english:en etc...}\n",
    "\n",
    "print(\n",
    "    \"\"\"\n",
    "    Supported Languages: {langs_dict}\n",
    "    \"\"\".format(\n",
    "        langs_dict=langs_dict\n",
    "    )\n",
    ")"
   ]
  },
  {
   "attachments": {},
   "cell_type": "markdown",
   "metadata": {
    "collapsed": false
   },
   "source": [
    "#### Translating the text to the desired language"
   ]
  },
  {
   "cell_type": "code",
   "execution_count": null,
   "metadata": {
    "collapsed": false
   },
   "outputs": [],
   "source": [
    "text = translator.translate(query)\n",
    "\n",
    "text"
   ]
  },
  {
   "attachments": {},
   "cell_type": "markdown",
   "metadata": {
    "collapsed": false
   },
   "source": [
    "#### Detecting the language of the text\n",
    "\n",
    "Detecting the language of the text. This is useful when the user is not sure about the language of the text."
   ]
  },
  {
   "cell_type": "code",
   "execution_count": null,
   "metadata": {
    "collapsed": false
   },
   "outputs": [],
   "source": [
    "# read the API KEY from environment variable named 'DETECT_LANGUAGE_API_KEY'\n",
    "# alternatively, you can pass the API KEY as a parameter however, it is not recommended due to security reasons.\n",
    "import detectlanguage\n",
    "\n",
    "# read the API KEY from .env file\n",
    "detectlanguage.configuration.api_key = os.getenv(\"DETECT_LANGUAGE_API_KEY\")\n",
    "\n",
    "# single detection\n",
    "single_detection(text)"
   ]
  },
  {
   "attachments": {},
   "cell_type": "markdown",
   "metadata": {
    "collapsed": false
   },
   "source": [
    "#### Saving Translated files and deleting them after playing\n",
    "\n",
    "Saving the translated text as an mp3 file and deleting it after playing. The mp3 file is saved in the same directory as the python file. The mp3 file is named captured_voice.mp3."
   ]
  },
  {
   "cell_type": "code",
   "execution_count": null,
   "metadata": {
    "collapsed": false
   },
   "outputs": [],
   "source": [
    "# checking if gTTS language is correctly given\n",
    "print(\"gTTS language: \", to_lang)"
   ]
  },
  {
   "cell_type": "code",
   "execution_count": null,
   "metadata": {
    "collapsed": false
   },
   "outputs": [],
   "source": [
    "# Using Google-Text-to-Speech ie, gTTS() method\n",
    "# to speak the translated text into the\n",
    "# destination language which is stored in to_lang.\n",
    "# Also, we have given 3rd argument as False because\n",
    "# by default it speaks very slowly\n",
    "speak = gTTS(text=text, lang=to_lang, slow=False)\n",
    "\n",
    "# Using save() method to save the translated\n",
    "# speech in capture_voice.mp3\n",
    "speak.save(\"captured_voice.mp3\")"
   ]
  },
  {
   "cell_type": "code",
   "execution_count": null,
   "metadata": {
    "collapsed": false
   },
   "outputs": [],
   "source": [
    "# Playing the translated file\n",
    "playsound(\"captured_voice.mp3\")"
   ]
  },
  {
   "cell_type": "code",
   "execution_count": null,
   "metadata": {
    "collapsed": false
   },
   "outputs": [],
   "source": [
    "import simpleaudio as sa\n",
    "\n",
    "filename = \"captured_voice.mp3\"\n",
    "wave_obj = sa.WaveObject.from_wave_file(filename)\n",
    "play_obj = wave_obj.play()\n",
    "play_obj.wait_done()  # Wait until sound has finished playing"
   ]
  },
  {
   "attachments": {},
   "cell_type": "markdown",
   "metadata": {
    "collapsed": false
   },
   "source": [
    "### Deep Translator\n",
    "\n"
   ]
  },
  {
   "cell_type": "code",
   "execution_count": null,
   "metadata": {
    "collapsed": false
   },
   "outputs": [],
   "source": [
    "from deep_translator import GoogleTranslator"
   ]
  },
  {
   "cell_type": "code",
   "execution_count": null,
   "metadata": {
    "collapsed": false
   },
   "outputs": [],
   "source": [
    "translated = GoogleTranslator(\n",
    "    source='auto', target='de'\n",
    ").translate(\n",
    "    \"keep it up, you are awesome\"\n",
    ")"
   ]
  },
  {
   "cell_type": "code",
   "execution_count": null,
   "metadata": {
    "collapsed": false
   },
   "outputs": [],
   "source": [
    "translated"
   ]
  }
 ],
 "metadata": {
  "kernelspec": {
   "display_name": "Python 3",
   "language": "python",
   "name": "python3"
  },
  "language_info": {
   "codemirror_mode": {
    "name": "ipython",
    "version": 2
   },
   "file_extension": ".py",
   "mimetype": "text/x-python",
   "name": "python",
   "nbconvert_exporter": "python",
   "pygments_lexer": "ipython2",
   "version": "2.7.6"
  }
 },
 "nbformat": 4,
 "nbformat_minor": 0
}
